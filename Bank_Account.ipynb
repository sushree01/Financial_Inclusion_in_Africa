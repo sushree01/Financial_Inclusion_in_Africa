{
 "cells": [
  {
   "cell_type": "code",
   "execution_count": 1,
   "id": "37d3bfff",
   "metadata": {},
   "outputs": [],
   "source": [
    "import numpy as np\n",
    "import pandas as pd\n",
    "import matplotlib.pyplot as plt\n",
    "import seaborn as sns"
   ]
  },
  {
   "cell_type": "code",
   "execution_count": 2,
   "id": "ca926dd7",
   "metadata": {},
   "outputs": [],
   "source": [
    "from warnings import filterwarnings\n",
    "filterwarnings('ignore')"
   ]
  },
  {
   "cell_type": "code",
   "execution_count": 3,
   "id": "2e96fa57",
   "metadata": {},
   "outputs": [],
   "source": [
    "from sklearn.preprocessing import LabelEncoder,MinMaxScaler,StandardScaler\n",
    "from sklearn.model_selection import train_test_split,GridSearchCV\n",
    "from imblearn.over_sampling import SMOTE"
   ]
  },
  {
   "cell_type": "code",
   "execution_count": 79,
   "id": "9aa501d0",
   "metadata": {},
   "outputs": [],
   "source": [
    "from sklearn.linear_model import LogisticRegression,SGDClassifier\n",
    "from sklearn.tree import DecisionTreeClassifier\n",
    "from sklearn.ensemble import RandomForestClassifier,AdaBoostClassifier,GradientBoostingClassifier\n",
    "from xgboost import XGBClassifier\n",
    "from lightgbm import LGBMClassifier\n",
    "from catboost import CatBoostClassifier\n",
    "from sklearn.naive_bayes import GaussianNB\n",
    "from mlxtend.classifier import StackingClassifier"
   ]
  },
  {
   "cell_type": "code",
   "execution_count": 88,
   "id": "61fa16ff",
   "metadata": {},
   "outputs": [],
   "source": [
    "import keras\n",
    "from keras.models import Sequential\n",
    "from keras.layers import Dense\n",
    "from keras.callbacks import EarlyStopping"
   ]
  },
  {
   "cell_type": "code",
   "execution_count": 5,
   "id": "9a73a02b",
   "metadata": {},
   "outputs": [],
   "source": [
    "from sklearn.metrics import accuracy_score"
   ]
  },
  {
   "cell_type": "code",
   "execution_count": 6,
   "id": "44b53723",
   "metadata": {},
   "outputs": [
    {
     "data": {
      "text/plain": [
       "(23524, 13)"
      ]
     },
     "execution_count": 6,
     "metadata": {},
     "output_type": "execute_result"
    }
   ],
   "source": [
    "df_train=pd.read_csv('C:/Users/Sushree Jena/Desktop/imarticus/machine learning/zindi/financial_inclusion/Train.csv')\n",
    "df_train.shape"
   ]
  },
  {
   "cell_type": "code",
   "execution_count": 7,
   "id": "7a8fdff4",
   "metadata": {},
   "outputs": [
    {
     "data": {
      "text/html": [
       "<div>\n",
       "<style scoped>\n",
       "    .dataframe tbody tr th:only-of-type {\n",
       "        vertical-align: middle;\n",
       "    }\n",
       "\n",
       "    .dataframe tbody tr th {\n",
       "        vertical-align: top;\n",
       "    }\n",
       "\n",
       "    .dataframe thead th {\n",
       "        text-align: right;\n",
       "    }\n",
       "</style>\n",
       "<table border=\"1\" class=\"dataframe\">\n",
       "  <thead>\n",
       "    <tr style=\"text-align: right;\">\n",
       "      <th></th>\n",
       "      <th>country</th>\n",
       "      <th>year</th>\n",
       "      <th>uniqueid</th>\n",
       "      <th>bank_account</th>\n",
       "      <th>location_type</th>\n",
       "      <th>cellphone_access</th>\n",
       "      <th>household_size</th>\n",
       "      <th>age_of_respondent</th>\n",
       "      <th>gender_of_respondent</th>\n",
       "      <th>relationship_with_head</th>\n",
       "      <th>marital_status</th>\n",
       "      <th>education_level</th>\n",
       "      <th>job_type</th>\n",
       "    </tr>\n",
       "  </thead>\n",
       "  <tbody>\n",
       "    <tr>\n",
       "      <th>0</th>\n",
       "      <td>Kenya</td>\n",
       "      <td>2018</td>\n",
       "      <td>uniqueid_1</td>\n",
       "      <td>Yes</td>\n",
       "      <td>Rural</td>\n",
       "      <td>Yes</td>\n",
       "      <td>3</td>\n",
       "      <td>24</td>\n",
       "      <td>Female</td>\n",
       "      <td>Spouse</td>\n",
       "      <td>Married/Living together</td>\n",
       "      <td>Secondary education</td>\n",
       "      <td>Self employed</td>\n",
       "    </tr>\n",
       "    <tr>\n",
       "      <th>1</th>\n",
       "      <td>Kenya</td>\n",
       "      <td>2018</td>\n",
       "      <td>uniqueid_2</td>\n",
       "      <td>No</td>\n",
       "      <td>Rural</td>\n",
       "      <td>No</td>\n",
       "      <td>5</td>\n",
       "      <td>70</td>\n",
       "      <td>Female</td>\n",
       "      <td>Head of Household</td>\n",
       "      <td>Widowed</td>\n",
       "      <td>No formal education</td>\n",
       "      <td>Government Dependent</td>\n",
       "    </tr>\n",
       "    <tr>\n",
       "      <th>2</th>\n",
       "      <td>Kenya</td>\n",
       "      <td>2018</td>\n",
       "      <td>uniqueid_3</td>\n",
       "      <td>Yes</td>\n",
       "      <td>Urban</td>\n",
       "      <td>Yes</td>\n",
       "      <td>5</td>\n",
       "      <td>26</td>\n",
       "      <td>Male</td>\n",
       "      <td>Other relative</td>\n",
       "      <td>Single/Never Married</td>\n",
       "      <td>Vocational/Specialised training</td>\n",
       "      <td>Self employed</td>\n",
       "    </tr>\n",
       "    <tr>\n",
       "      <th>3</th>\n",
       "      <td>Kenya</td>\n",
       "      <td>2018</td>\n",
       "      <td>uniqueid_4</td>\n",
       "      <td>No</td>\n",
       "      <td>Rural</td>\n",
       "      <td>Yes</td>\n",
       "      <td>5</td>\n",
       "      <td>34</td>\n",
       "      <td>Female</td>\n",
       "      <td>Head of Household</td>\n",
       "      <td>Married/Living together</td>\n",
       "      <td>Primary education</td>\n",
       "      <td>Formally employed Private</td>\n",
       "    </tr>\n",
       "    <tr>\n",
       "      <th>4</th>\n",
       "      <td>Kenya</td>\n",
       "      <td>2018</td>\n",
       "      <td>uniqueid_5</td>\n",
       "      <td>No</td>\n",
       "      <td>Urban</td>\n",
       "      <td>No</td>\n",
       "      <td>8</td>\n",
       "      <td>26</td>\n",
       "      <td>Male</td>\n",
       "      <td>Child</td>\n",
       "      <td>Single/Never Married</td>\n",
       "      <td>Primary education</td>\n",
       "      <td>Informally employed</td>\n",
       "    </tr>\n",
       "  </tbody>\n",
       "</table>\n",
       "</div>"
      ],
      "text/plain": [
       "  country  year    uniqueid bank_account location_type cellphone_access  \\\n",
       "0   Kenya  2018  uniqueid_1          Yes         Rural              Yes   \n",
       "1   Kenya  2018  uniqueid_2           No         Rural               No   \n",
       "2   Kenya  2018  uniqueid_3          Yes         Urban              Yes   \n",
       "3   Kenya  2018  uniqueid_4           No         Rural              Yes   \n",
       "4   Kenya  2018  uniqueid_5           No         Urban               No   \n",
       "\n",
       "   household_size  age_of_respondent gender_of_respondent  \\\n",
       "0               3                 24               Female   \n",
       "1               5                 70               Female   \n",
       "2               5                 26                 Male   \n",
       "3               5                 34               Female   \n",
       "4               8                 26                 Male   \n",
       "\n",
       "  relationship_with_head           marital_status  \\\n",
       "0                 Spouse  Married/Living together   \n",
       "1      Head of Household                  Widowed   \n",
       "2         Other relative     Single/Never Married   \n",
       "3      Head of Household  Married/Living together   \n",
       "4                  Child     Single/Never Married   \n",
       "\n",
       "                   education_level                   job_type  \n",
       "0              Secondary education              Self employed  \n",
       "1              No formal education       Government Dependent  \n",
       "2  Vocational/Specialised training              Self employed  \n",
       "3                Primary education  Formally employed Private  \n",
       "4                Primary education        Informally employed  "
      ]
     },
     "execution_count": 7,
     "metadata": {},
     "output_type": "execute_result"
    }
   ],
   "source": [
    "df_train.head()"
   ]
  },
  {
   "cell_type": "code",
   "execution_count": 8,
   "id": "a18e5cf1",
   "metadata": {},
   "outputs": [
    {
     "data": {
      "text/plain": [
       "(10086, 12)"
      ]
     },
     "execution_count": 8,
     "metadata": {},
     "output_type": "execute_result"
    }
   ],
   "source": [
    "df_test=pd.read_csv('C:/Users/Sushree Jena/Desktop/imarticus/machine learning/zindi/financial_inclusion/Test.csv')\n",
    "df_test.shape"
   ]
  },
  {
   "cell_type": "code",
   "execution_count": 9,
   "id": "e98472a6",
   "metadata": {},
   "outputs": [
    {
     "data": {
      "text/html": [
       "<div>\n",
       "<style scoped>\n",
       "    .dataframe tbody tr th:only-of-type {\n",
       "        vertical-align: middle;\n",
       "    }\n",
       "\n",
       "    .dataframe tbody tr th {\n",
       "        vertical-align: top;\n",
       "    }\n",
       "\n",
       "    .dataframe thead th {\n",
       "        text-align: right;\n",
       "    }\n",
       "</style>\n",
       "<table border=\"1\" class=\"dataframe\">\n",
       "  <thead>\n",
       "    <tr style=\"text-align: right;\">\n",
       "      <th></th>\n",
       "      <th>country</th>\n",
       "      <th>year</th>\n",
       "      <th>uniqueid</th>\n",
       "      <th>location_type</th>\n",
       "      <th>cellphone_access</th>\n",
       "      <th>household_size</th>\n",
       "      <th>age_of_respondent</th>\n",
       "      <th>gender_of_respondent</th>\n",
       "      <th>relationship_with_head</th>\n",
       "      <th>marital_status</th>\n",
       "      <th>education_level</th>\n",
       "      <th>job_type</th>\n",
       "    </tr>\n",
       "  </thead>\n",
       "  <tbody>\n",
       "    <tr>\n",
       "      <th>0</th>\n",
       "      <td>Kenya</td>\n",
       "      <td>2018</td>\n",
       "      <td>uniqueid_6056</td>\n",
       "      <td>Urban</td>\n",
       "      <td>Yes</td>\n",
       "      <td>3</td>\n",
       "      <td>30</td>\n",
       "      <td>Male</td>\n",
       "      <td>Head of Household</td>\n",
       "      <td>Married/Living together</td>\n",
       "      <td>Secondary education</td>\n",
       "      <td>Formally employed Government</td>\n",
       "    </tr>\n",
       "    <tr>\n",
       "      <th>1</th>\n",
       "      <td>Kenya</td>\n",
       "      <td>2018</td>\n",
       "      <td>uniqueid_6060</td>\n",
       "      <td>Urban</td>\n",
       "      <td>Yes</td>\n",
       "      <td>7</td>\n",
       "      <td>51</td>\n",
       "      <td>Male</td>\n",
       "      <td>Head of Household</td>\n",
       "      <td>Married/Living together</td>\n",
       "      <td>Vocational/Specialised training</td>\n",
       "      <td>Formally employed Private</td>\n",
       "    </tr>\n",
       "    <tr>\n",
       "      <th>2</th>\n",
       "      <td>Kenya</td>\n",
       "      <td>2018</td>\n",
       "      <td>uniqueid_6065</td>\n",
       "      <td>Rural</td>\n",
       "      <td>No</td>\n",
       "      <td>3</td>\n",
       "      <td>77</td>\n",
       "      <td>Female</td>\n",
       "      <td>Parent</td>\n",
       "      <td>Married/Living together</td>\n",
       "      <td>No formal education</td>\n",
       "      <td>Remittance Dependent</td>\n",
       "    </tr>\n",
       "    <tr>\n",
       "      <th>3</th>\n",
       "      <td>Kenya</td>\n",
       "      <td>2018</td>\n",
       "      <td>uniqueid_6072</td>\n",
       "      <td>Rural</td>\n",
       "      <td>No</td>\n",
       "      <td>6</td>\n",
       "      <td>39</td>\n",
       "      <td>Female</td>\n",
       "      <td>Head of Household</td>\n",
       "      <td>Married/Living together</td>\n",
       "      <td>Primary education</td>\n",
       "      <td>Remittance Dependent</td>\n",
       "    </tr>\n",
       "    <tr>\n",
       "      <th>4</th>\n",
       "      <td>Kenya</td>\n",
       "      <td>2018</td>\n",
       "      <td>uniqueid_6073</td>\n",
       "      <td>Urban</td>\n",
       "      <td>No</td>\n",
       "      <td>3</td>\n",
       "      <td>16</td>\n",
       "      <td>Male</td>\n",
       "      <td>Child</td>\n",
       "      <td>Single/Never Married</td>\n",
       "      <td>Secondary education</td>\n",
       "      <td>Remittance Dependent</td>\n",
       "    </tr>\n",
       "  </tbody>\n",
       "</table>\n",
       "</div>"
      ],
      "text/plain": [
       "  country  year       uniqueid location_type cellphone_access  household_size  \\\n",
       "0   Kenya  2018  uniqueid_6056         Urban              Yes               3   \n",
       "1   Kenya  2018  uniqueid_6060         Urban              Yes               7   \n",
       "2   Kenya  2018  uniqueid_6065         Rural               No               3   \n",
       "3   Kenya  2018  uniqueid_6072         Rural               No               6   \n",
       "4   Kenya  2018  uniqueid_6073         Urban               No               3   \n",
       "\n",
       "   age_of_respondent gender_of_respondent relationship_with_head  \\\n",
       "0                 30                 Male      Head of Household   \n",
       "1                 51                 Male      Head of Household   \n",
       "2                 77               Female                 Parent   \n",
       "3                 39               Female      Head of Household   \n",
       "4                 16                 Male                  Child   \n",
       "\n",
       "            marital_status                  education_level  \\\n",
       "0  Married/Living together              Secondary education   \n",
       "1  Married/Living together  Vocational/Specialised training   \n",
       "2  Married/Living together              No formal education   \n",
       "3  Married/Living together                Primary education   \n",
       "4     Single/Never Married              Secondary education   \n",
       "\n",
       "                       job_type  \n",
       "0  Formally employed Government  \n",
       "1     Formally employed Private  \n",
       "2          Remittance Dependent  \n",
       "3          Remittance Dependent  \n",
       "4          Remittance Dependent  "
      ]
     },
     "execution_count": 9,
     "metadata": {},
     "output_type": "execute_result"
    }
   ],
   "source": [
    "df_test.head()"
   ]
  },
  {
   "cell_type": "markdown",
   "id": "fd389d38",
   "metadata": {},
   "source": [
    "Let's merge the two datasets for the ease of doing EDA. We will separate it again at the time of model building."
   ]
  },
  {
   "cell_type": "code",
   "execution_count": 10,
   "id": "f78cd47b",
   "metadata": {},
   "outputs": [],
   "source": [
    "df_train['source']='train'\n",
    "df_test['source']='test'"
   ]
  },
  {
   "cell_type": "code",
   "execution_count": 11,
   "id": "51ef9858",
   "metadata": {},
   "outputs": [
    {
     "data": {
      "text/plain": [
       "(33610, 14)"
      ]
     },
     "execution_count": 11,
     "metadata": {},
     "output_type": "execute_result"
    }
   ],
   "source": [
    "df=pd.concat([df_train,df_test],axis=0)\n",
    "df.shape"
   ]
  },
  {
   "cell_type": "code",
   "execution_count": 12,
   "id": "c395bed4",
   "metadata": {},
   "outputs": [
    {
     "data": {
      "text/html": [
       "<div>\n",
       "<style scoped>\n",
       "    .dataframe tbody tr th:only-of-type {\n",
       "        vertical-align: middle;\n",
       "    }\n",
       "\n",
       "    .dataframe tbody tr th {\n",
       "        vertical-align: top;\n",
       "    }\n",
       "\n",
       "    .dataframe thead th {\n",
       "        text-align: right;\n",
       "    }\n",
       "</style>\n",
       "<table border=\"1\" class=\"dataframe\">\n",
       "  <thead>\n",
       "    <tr style=\"text-align: right;\">\n",
       "      <th></th>\n",
       "      <th>country</th>\n",
       "      <th>year</th>\n",
       "      <th>uniqueid</th>\n",
       "      <th>bank_account</th>\n",
       "      <th>location_type</th>\n",
       "      <th>cellphone_access</th>\n",
       "      <th>household_size</th>\n",
       "      <th>age_of_respondent</th>\n",
       "      <th>gender_of_respondent</th>\n",
       "      <th>relationship_with_head</th>\n",
       "      <th>marital_status</th>\n",
       "      <th>education_level</th>\n",
       "      <th>job_type</th>\n",
       "      <th>source</th>\n",
       "    </tr>\n",
       "  </thead>\n",
       "  <tbody>\n",
       "    <tr>\n",
       "      <th>0</th>\n",
       "      <td>Kenya</td>\n",
       "      <td>2018</td>\n",
       "      <td>uniqueid_1</td>\n",
       "      <td>Yes</td>\n",
       "      <td>Rural</td>\n",
       "      <td>Yes</td>\n",
       "      <td>3</td>\n",
       "      <td>24</td>\n",
       "      <td>Female</td>\n",
       "      <td>Spouse</td>\n",
       "      <td>Married/Living together</td>\n",
       "      <td>Secondary education</td>\n",
       "      <td>Self employed</td>\n",
       "      <td>train</td>\n",
       "    </tr>\n",
       "    <tr>\n",
       "      <th>1</th>\n",
       "      <td>Kenya</td>\n",
       "      <td>2018</td>\n",
       "      <td>uniqueid_2</td>\n",
       "      <td>No</td>\n",
       "      <td>Rural</td>\n",
       "      <td>No</td>\n",
       "      <td>5</td>\n",
       "      <td>70</td>\n",
       "      <td>Female</td>\n",
       "      <td>Head of Household</td>\n",
       "      <td>Widowed</td>\n",
       "      <td>No formal education</td>\n",
       "      <td>Government Dependent</td>\n",
       "      <td>train</td>\n",
       "    </tr>\n",
       "    <tr>\n",
       "      <th>2</th>\n",
       "      <td>Kenya</td>\n",
       "      <td>2018</td>\n",
       "      <td>uniqueid_3</td>\n",
       "      <td>Yes</td>\n",
       "      <td>Urban</td>\n",
       "      <td>Yes</td>\n",
       "      <td>5</td>\n",
       "      <td>26</td>\n",
       "      <td>Male</td>\n",
       "      <td>Other relative</td>\n",
       "      <td>Single/Never Married</td>\n",
       "      <td>Vocational/Specialised training</td>\n",
       "      <td>Self employed</td>\n",
       "      <td>train</td>\n",
       "    </tr>\n",
       "    <tr>\n",
       "      <th>3</th>\n",
       "      <td>Kenya</td>\n",
       "      <td>2018</td>\n",
       "      <td>uniqueid_4</td>\n",
       "      <td>No</td>\n",
       "      <td>Rural</td>\n",
       "      <td>Yes</td>\n",
       "      <td>5</td>\n",
       "      <td>34</td>\n",
       "      <td>Female</td>\n",
       "      <td>Head of Household</td>\n",
       "      <td>Married/Living together</td>\n",
       "      <td>Primary education</td>\n",
       "      <td>Formally employed Private</td>\n",
       "      <td>train</td>\n",
       "    </tr>\n",
       "    <tr>\n",
       "      <th>4</th>\n",
       "      <td>Kenya</td>\n",
       "      <td>2018</td>\n",
       "      <td>uniqueid_5</td>\n",
       "      <td>No</td>\n",
       "      <td>Urban</td>\n",
       "      <td>No</td>\n",
       "      <td>8</td>\n",
       "      <td>26</td>\n",
       "      <td>Male</td>\n",
       "      <td>Child</td>\n",
       "      <td>Single/Never Married</td>\n",
       "      <td>Primary education</td>\n",
       "      <td>Informally employed</td>\n",
       "      <td>train</td>\n",
       "    </tr>\n",
       "  </tbody>\n",
       "</table>\n",
       "</div>"
      ],
      "text/plain": [
       "  country  year    uniqueid bank_account location_type cellphone_access  \\\n",
       "0   Kenya  2018  uniqueid_1          Yes         Rural              Yes   \n",
       "1   Kenya  2018  uniqueid_2           No         Rural               No   \n",
       "2   Kenya  2018  uniqueid_3          Yes         Urban              Yes   \n",
       "3   Kenya  2018  uniqueid_4           No         Rural              Yes   \n",
       "4   Kenya  2018  uniqueid_5           No         Urban               No   \n",
       "\n",
       "   household_size  age_of_respondent gender_of_respondent  \\\n",
       "0               3                 24               Female   \n",
       "1               5                 70               Female   \n",
       "2               5                 26                 Male   \n",
       "3               5                 34               Female   \n",
       "4               8                 26                 Male   \n",
       "\n",
       "  relationship_with_head           marital_status  \\\n",
       "0                 Spouse  Married/Living together   \n",
       "1      Head of Household                  Widowed   \n",
       "2         Other relative     Single/Never Married   \n",
       "3      Head of Household  Married/Living together   \n",
       "4                  Child     Single/Never Married   \n",
       "\n",
       "                   education_level                   job_type source  \n",
       "0              Secondary education              Self employed  train  \n",
       "1              No formal education       Government Dependent  train  \n",
       "2  Vocational/Specialised training              Self employed  train  \n",
       "3                Primary education  Formally employed Private  train  \n",
       "4                Primary education        Informally employed  train  "
      ]
     },
     "execution_count": 12,
     "metadata": {},
     "output_type": "execute_result"
    }
   ],
   "source": [
    "df.head()"
   ]
  },
  {
   "cell_type": "code",
   "execution_count": 13,
   "id": "3991794b",
   "metadata": {},
   "outputs": [],
   "source": [
    "#Checking for data types"
   ]
  },
  {
   "cell_type": "code",
   "execution_count": 14,
   "id": "3a2fa397",
   "metadata": {},
   "outputs": [
    {
     "name": "stdout",
     "output_type": "stream",
     "text": [
      "<class 'pandas.core.frame.DataFrame'>\n",
      "Int64Index: 33610 entries, 0 to 10085\n",
      "Data columns (total 14 columns):\n",
      " #   Column                  Non-Null Count  Dtype \n",
      "---  ------                  --------------  ----- \n",
      " 0   country                 33610 non-null  object\n",
      " 1   year                    33610 non-null  int64 \n",
      " 2   uniqueid                33610 non-null  object\n",
      " 3   bank_account            23524 non-null  object\n",
      " 4   location_type           33610 non-null  object\n",
      " 5   cellphone_access        33610 non-null  object\n",
      " 6   household_size          33610 non-null  int64 \n",
      " 7   age_of_respondent       33610 non-null  int64 \n",
      " 8   gender_of_respondent    33610 non-null  object\n",
      " 9   relationship_with_head  33610 non-null  object\n",
      " 10  marital_status          33610 non-null  object\n",
      " 11  education_level         33610 non-null  object\n",
      " 12  job_type                33610 non-null  object\n",
      " 13  source                  33610 non-null  object\n",
      "dtypes: int64(3), object(11)\n",
      "memory usage: 3.8+ MB\n"
     ]
    }
   ],
   "source": [
    "df.info()"
   ]
  },
  {
   "cell_type": "markdown",
   "id": "276a1533",
   "metadata": {},
   "source": [
    "We can see that we have some categoric and some numeric columns in our dataset. We can also observe that there are no missing values in the dataset."
   ]
  },
  {
   "cell_type": "code",
   "execution_count": 15,
   "id": "42198b68",
   "metadata": {},
   "outputs": [],
   "source": [
    "#Summary Statistics"
   ]
  },
  {
   "cell_type": "code",
   "execution_count": 16,
   "id": "d70b5465",
   "metadata": {},
   "outputs": [
    {
     "data": {
      "text/html": [
       "<div>\n",
       "<style scoped>\n",
       "    .dataframe tbody tr th:only-of-type {\n",
       "        vertical-align: middle;\n",
       "    }\n",
       "\n",
       "    .dataframe tbody tr th {\n",
       "        vertical-align: top;\n",
       "    }\n",
       "\n",
       "    .dataframe thead th {\n",
       "        text-align: right;\n",
       "    }\n",
       "</style>\n",
       "<table border=\"1\" class=\"dataframe\">\n",
       "  <thead>\n",
       "    <tr style=\"text-align: right;\">\n",
       "      <th></th>\n",
       "      <th>year</th>\n",
       "      <th>household_size</th>\n",
       "      <th>age_of_respondent</th>\n",
       "    </tr>\n",
       "  </thead>\n",
       "  <tbody>\n",
       "    <tr>\n",
       "      <th>count</th>\n",
       "      <td>33610.000000</td>\n",
       "      <td>33610.000000</td>\n",
       "      <td>33610.000000</td>\n",
       "    </tr>\n",
       "    <tr>\n",
       "      <th>mean</th>\n",
       "      <td>2016.975930</td>\n",
       "      <td>3.791877</td>\n",
       "      <td>38.656114</td>\n",
       "    </tr>\n",
       "    <tr>\n",
       "      <th>std</th>\n",
       "      <td>0.847353</td>\n",
       "      <td>2.223138</td>\n",
       "      <td>16.447127</td>\n",
       "    </tr>\n",
       "    <tr>\n",
       "      <th>min</th>\n",
       "      <td>2016.000000</td>\n",
       "      <td>1.000000</td>\n",
       "      <td>16.000000</td>\n",
       "    </tr>\n",
       "    <tr>\n",
       "      <th>25%</th>\n",
       "      <td>2016.000000</td>\n",
       "      <td>2.000000</td>\n",
       "      <td>26.000000</td>\n",
       "    </tr>\n",
       "    <tr>\n",
       "      <th>50%</th>\n",
       "      <td>2017.000000</td>\n",
       "      <td>3.000000</td>\n",
       "      <td>35.000000</td>\n",
       "    </tr>\n",
       "    <tr>\n",
       "      <th>75%</th>\n",
       "      <td>2018.000000</td>\n",
       "      <td>5.000000</td>\n",
       "      <td>49.000000</td>\n",
       "    </tr>\n",
       "    <tr>\n",
       "      <th>max</th>\n",
       "      <td>2018.000000</td>\n",
       "      <td>21.000000</td>\n",
       "      <td>100.000000</td>\n",
       "    </tr>\n",
       "  </tbody>\n",
       "</table>\n",
       "</div>"
      ],
      "text/plain": [
       "               year  household_size  age_of_respondent\n",
       "count  33610.000000    33610.000000       33610.000000\n",
       "mean    2016.975930        3.791877          38.656114\n",
       "std        0.847353        2.223138          16.447127\n",
       "min     2016.000000        1.000000          16.000000\n",
       "25%     2016.000000        2.000000          26.000000\n",
       "50%     2017.000000        3.000000          35.000000\n",
       "75%     2018.000000        5.000000          49.000000\n",
       "max     2018.000000       21.000000         100.000000"
      ]
     },
     "execution_count": 16,
     "metadata": {},
     "output_type": "execute_result"
    }
   ],
   "source": [
    "df.describe()"
   ]
  },
  {
   "cell_type": "code",
   "execution_count": 17,
   "id": "d3cb8750",
   "metadata": {},
   "outputs": [],
   "source": [
    "#Plotting independent features against target column"
   ]
  },
  {
   "cell_type": "code",
   "execution_count": 18,
   "id": "685c5c34",
   "metadata": {},
   "outputs": [
    {
     "data": {
      "image/png": "[encoded data removed]",
      "text/plain": [
       "<Figure size 432x288 with 1 Axes>"
      ]
     },
     "metadata": {
      "needs_background": "light"
     },
     "output_type": "display_data"
    },
    {
     "data": {
      "image/png": "[encoded data removed]",
      "text/plain": [
       "<Figure size 432x288 with 1 Axes>"
      ]
     },
     "metadata": {
      "needs_background": "light"
     },
     "output_type": "display_data"
    }
   ],
   "source": [
    "cols=['household_size','age_of_respondent']\n",
    "\n",
    "for col in cols:\n",
    "    sns.boxplot(x='bank_account',y=col,data=df)\n",
    "    plt.show()"
   ]
  },
  {
   "cell_type": "markdown",
   "id": "96697f4d",
   "metadata": {},
   "source": [
    "Observations:\n",
    "    families with more no. of members, generally do not have a bank account.\n",
    "    Families with higher age group members, generally do not have a bank account."
   ]
  },
  {
   "cell_type": "code",
   "execution_count": 19,
   "id": "3adb4c84",
   "metadata": {},
   "outputs": [
    {
     "data": {
      "text/plain": [
       "Index(['country', 'year', 'uniqueid', 'bank_account', 'location_type',\n",
       "       'cellphone_access', 'household_size', 'age_of_respondent',\n",
       "       'gender_of_respondent', 'relationship_with_head', 'marital_status',\n",
       "       'education_level', 'job_type', 'source'],\n",
       "      dtype='object')"
      ]
     },
     "execution_count": 19,
     "metadata": {},
     "output_type": "execute_result"
    }
   ],
   "source": [
    "df.columns"
   ]
  },
  {
   "cell_type": "code",
   "execution_count": 20,
   "id": "dcb6aa78",
   "metadata": {},
   "outputs": [],
   "source": [
    "#Visualisations"
   ]
  },
  {
   "cell_type": "code",
   "execution_count": 21,
   "id": "cde578fa",
   "metadata": {},
   "outputs": [
    {
     "data": {
      "image/png": "[encoded data removed]",
      "text/plain": [
       "<Figure size 432x288 with 1 Axes>"
      ]
     },
     "metadata": {
      "needs_background": "light"
     },
     "output_type": "display_data"
    }
   ],
   "source": [
    "sns.countplot(x='bank_account',hue='location_type',data=df)\n",
    "plt.show()"
   ]
  },
  {
   "cell_type": "markdown",
   "id": "0e3d7c02",
   "metadata": {},
   "source": [
    "We can see it clearly that there are people from Rural area who do not have a bank account as compared to Urban area."
   ]
  },
  {
   "cell_type": "code",
   "execution_count": 22,
   "id": "1179dcc8",
   "metadata": {},
   "outputs": [
    {
     "data": {
      "image/png": "[encoded data removed]",
      "text/plain": [
       "<Figure size 432x288 with 1 Axes>"
      ]
     },
     "metadata": {
      "needs_background": "light"
     },
     "output_type": "display_data"
    }
   ],
   "source": [
    "sns.countplot(x='bank_account',hue='gender_of_respondent',data=df)\n",
    "plt.show()"
   ]
  },
  {
   "cell_type": "markdown",
   "id": "a102818f",
   "metadata": {},
   "source": [
    "There are less number of females as compared to males, who has a bank account."
   ]
  },
  {
   "cell_type": "code",
   "execution_count": 23,
   "id": "062550c0",
   "metadata": {},
   "outputs": [
    {
     "data": {
      "image/png": "[encoded data removed]",
      "text/plain": [
       "<Figure size 432x288 with 1 Axes>"
      ]
     },
     "metadata": {
      "needs_background": "light"
     },
     "output_type": "display_data"
    }
   ],
   "source": [
    "sns.countplot(x='bank_account',hue='job_type',data=df)\n",
    "plt.show()"
   ]
  },
  {
   "cell_type": "markdown",
   "id": "557e365c",
   "metadata": {},
   "source": [
    "We can see clearly that there are most instances of people from Self employed sector not having a bank account, may be because they would be dealing with hard cash for daily transactions. It is followed by people from 'Informally employed' and 'Farming and Fishing', because they may not be having regular cash inflow, or not sufficient money to save for future."
   ]
  },
  {
   "cell_type": "code",
   "execution_count": 24,
   "id": "0d4a7b2f",
   "metadata": {},
   "outputs": [
    {
     "data": {
      "image/png": "[encoded data removed]",
      "text/plain": [
       "<Figure size 432x288 with 1 Axes>"
      ]
     },
     "metadata": {
      "needs_background": "light"
     },
     "output_type": "display_data"
    }
   ],
   "source": [
    "sns.countplot(x='bank_account',hue='education_level',data=df)\n",
    "plt.show()"
   ]
  },
  {
   "cell_type": "markdown",
   "id": "ea9703f2",
   "metadata": {},
   "source": [
    "There are most instances of people with Primary education level, who do not have a bank account."
   ]
  },
  {
   "cell_type": "code",
   "execution_count": 25,
   "id": "4c70258f",
   "metadata": {},
   "outputs": [],
   "source": [
    "#Feature Engineering"
   ]
  },
  {
   "cell_type": "markdown",
   "id": "55fade2a",
   "metadata": {},
   "source": [
    "Let's convert the household_size and age_of_respondent to categorical column."
   ]
  },
  {
   "cell_type": "code",
   "execution_count": 26,
   "id": "1bbf558a",
   "metadata": {},
   "outputs": [
    {
     "data": {
      "text/plain": [
       "(16, 100)"
      ]
     },
     "execution_count": 26,
     "metadata": {},
     "output_type": "execute_result"
    }
   ],
   "source": [
    "df.age_of_respondent.min(),df.age_of_respondent.max()"
   ]
  },
  {
   "cell_type": "code",
   "execution_count": 27,
   "id": "3dd2df5d",
   "metadata": {},
   "outputs": [],
   "source": [
    "df['respondent_age']=pd.cut(df.age_of_respondent,bins=[10,30,60,101],labels=['young','middle','old'])"
   ]
  },
  {
   "cell_type": "code",
   "execution_count": 28,
   "id": "dd5737db",
   "metadata": {},
   "outputs": [
    {
     "data": {
      "text/plain": [
       "middle    16526\n",
       "young     13085\n",
       "old        3999\n",
       "Name: respondent_age, dtype: int64"
      ]
     },
     "execution_count": 28,
     "metadata": {},
     "output_type": "execute_result"
    }
   ],
   "source": [
    "df.respondent_age.value_counts()"
   ]
  },
  {
   "cell_type": "code",
   "execution_count": 29,
   "id": "0130ceb3",
   "metadata": {},
   "outputs": [
    {
     "data": {
      "text/plain": [
       "(1, 21)"
      ]
     },
     "execution_count": 29,
     "metadata": {},
     "output_type": "execute_result"
    }
   ],
   "source": [
    "df.household_size.min(),df.household_size.max()"
   ]
  },
  {
   "cell_type": "code",
   "execution_count": 30,
   "id": "820d403c",
   "metadata": {},
   "outputs": [],
   "source": [
    "df['family_size']=pd.cut(df.household_size,bins=[0,3,6,22],labels=['small','medium','large'])"
   ]
  },
  {
   "cell_type": "code",
   "execution_count": 31,
   "id": "7b61eaa8",
   "metadata": {},
   "outputs": [
    {
     "data": {
      "text/plain": [
       "small     17436\n",
       "medium    12074\n",
       "large      4100\n",
       "Name: family_size, dtype: int64"
      ]
     },
     "execution_count": 31,
     "metadata": {},
     "output_type": "execute_result"
    }
   ],
   "source": [
    "df['family_size'].value_counts()"
   ]
  },
  {
   "cell_type": "code",
   "execution_count": 32,
   "id": "efd04ab9",
   "metadata": {},
   "outputs": [],
   "source": [
    "#Dropping the respondent_age and household_size column since we do not require it now.\n",
    "\n",
    "df=df.drop(['age_of_respondent','household_size'],axis=1)"
   ]
  },
  {
   "cell_type": "code",
   "execution_count": 33,
   "id": "638e0c8b",
   "metadata": {},
   "outputs": [
    {
     "data": {
      "text/html": [
       "<div>\n",
       "<style scoped>\n",
       "    .dataframe tbody tr th:only-of-type {\n",
       "        vertical-align: middle;\n",
       "    }\n",
       "\n",
       "    .dataframe tbody tr th {\n",
       "        vertical-align: top;\n",
       "    }\n",
       "\n",
       "    .dataframe thead th {\n",
       "        text-align: right;\n",
       "    }\n",
       "</style>\n",
       "<table border=\"1\" class=\"dataframe\">\n",
       "  <thead>\n",
       "    <tr style=\"text-align: right;\">\n",
       "      <th></th>\n",
       "      <th>country</th>\n",
       "      <th>year</th>\n",
       "      <th>uniqueid</th>\n",
       "      <th>bank_account</th>\n",
       "      <th>location_type</th>\n",
       "      <th>cellphone_access</th>\n",
       "      <th>gender_of_respondent</th>\n",
       "      <th>relationship_with_head</th>\n",
       "      <th>marital_status</th>\n",
       "      <th>education_level</th>\n",
       "      <th>job_type</th>\n",
       "      <th>source</th>\n",
       "      <th>respondent_age</th>\n",
       "      <th>family_size</th>\n",
       "    </tr>\n",
       "  </thead>\n",
       "  <tbody>\n",
       "    <tr>\n",
       "      <th>0</th>\n",
       "      <td>Kenya</td>\n",
       "      <td>2018</td>\n",
       "      <td>uniqueid_1</td>\n",
       "      <td>Yes</td>\n",
       "      <td>Rural</td>\n",
       "      <td>Yes</td>\n",
       "      <td>Female</td>\n",
       "      <td>Spouse</td>\n",
       "      <td>Married/Living together</td>\n",
       "      <td>Secondary education</td>\n",
       "      <td>Self employed</td>\n",
       "      <td>train</td>\n",
       "      <td>young</td>\n",
       "      <td>small</td>\n",
       "    </tr>\n",
       "    <tr>\n",
       "      <th>1</th>\n",
       "      <td>Kenya</td>\n",
       "      <td>2018</td>\n",
       "      <td>uniqueid_2</td>\n",
       "      <td>No</td>\n",
       "      <td>Rural</td>\n",
       "      <td>No</td>\n",
       "      <td>Female</td>\n",
       "      <td>Head of Household</td>\n",
       "      <td>Widowed</td>\n",
       "      <td>No formal education</td>\n",
       "      <td>Government Dependent</td>\n",
       "      <td>train</td>\n",
       "      <td>old</td>\n",
       "      <td>medium</td>\n",
       "    </tr>\n",
       "    <tr>\n",
       "      <th>2</th>\n",
       "      <td>Kenya</td>\n",
       "      <td>2018</td>\n",
       "      <td>uniqueid_3</td>\n",
       "      <td>Yes</td>\n",
       "      <td>Urban</td>\n",
       "      <td>Yes</td>\n",
       "      <td>Male</td>\n",
       "      <td>Other relative</td>\n",
       "      <td>Single/Never Married</td>\n",
       "      <td>Vocational/Specialised training</td>\n",
       "      <td>Self employed</td>\n",
       "      <td>train</td>\n",
       "      <td>young</td>\n",
       "      <td>medium</td>\n",
       "    </tr>\n",
       "    <tr>\n",
       "      <th>3</th>\n",
       "      <td>Kenya</td>\n",
       "      <td>2018</td>\n",
       "      <td>uniqueid_4</td>\n",
       "      <td>No</td>\n",
       "      <td>Rural</td>\n",
       "      <td>Yes</td>\n",
       "      <td>Female</td>\n",
       "      <td>Head of Household</td>\n",
       "      <td>Married/Living together</td>\n",
       "      <td>Primary education</td>\n",
       "      <td>Formally employed Private</td>\n",
       "      <td>train</td>\n",
       "      <td>middle</td>\n",
       "      <td>medium</td>\n",
       "    </tr>\n",
       "    <tr>\n",
       "      <th>4</th>\n",
       "      <td>Kenya</td>\n",
       "      <td>2018</td>\n",
       "      <td>uniqueid_5</td>\n",
       "      <td>No</td>\n",
       "      <td>Urban</td>\n",
       "      <td>No</td>\n",
       "      <td>Male</td>\n",
       "      <td>Child</td>\n",
       "      <td>Single/Never Married</td>\n",
       "      <td>Primary education</td>\n",
       "      <td>Informally employed</td>\n",
       "      <td>train</td>\n",
       "      <td>young</td>\n",
       "      <td>large</td>\n",
       "    </tr>\n",
       "  </tbody>\n",
       "</table>\n",
       "</div>"
      ],
      "text/plain": [
       "  country  year    uniqueid bank_account location_type cellphone_access  \\\n",
       "0   Kenya  2018  uniqueid_1          Yes         Rural              Yes   \n",
       "1   Kenya  2018  uniqueid_2           No         Rural               No   \n",
       "2   Kenya  2018  uniqueid_3          Yes         Urban              Yes   \n",
       "3   Kenya  2018  uniqueid_4           No         Rural              Yes   \n",
       "4   Kenya  2018  uniqueid_5           No         Urban               No   \n",
       "\n",
       "  gender_of_respondent relationship_with_head           marital_status  \\\n",
       "0               Female                 Spouse  Married/Living together   \n",
       "1               Female      Head of Household                  Widowed   \n",
       "2                 Male         Other relative     Single/Never Married   \n",
       "3               Female      Head of Household  Married/Living together   \n",
       "4                 Male                  Child     Single/Never Married   \n",
       "\n",
       "                   education_level                   job_type source  \\\n",
       "0              Secondary education              Self employed  train   \n",
       "1              No formal education       Government Dependent  train   \n",
       "2  Vocational/Specialised training              Self employed  train   \n",
       "3                Primary education  Formally employed Private  train   \n",
       "4                Primary education        Informally employed  train   \n",
       "\n",
       "  respondent_age family_size  \n",
       "0          young       small  \n",
       "1            old      medium  \n",
       "2          young      medium  \n",
       "3         middle      medium  \n",
       "4          young       large  "
      ]
     },
     "execution_count": 33,
     "metadata": {},
     "output_type": "execute_result"
    }
   ],
   "source": [
    "df.head()"
   ]
  },
  {
   "cell_type": "code",
   "execution_count": 34,
   "id": "18019ca3",
   "metadata": {},
   "outputs": [
    {
     "data": {
      "image/png": "[encoded data removed]",
      "text/plain": [
       "<Figure size 432x288 with 1 Axes>"
      ]
     },
     "metadata": {
      "needs_background": "light"
     },
     "output_type": "display_data"
    }
   ],
   "source": [
    "sns.countplot(x='bank_account',hue='respondent_age',data=df)\n",
    "plt.show()"
   ]
  },
  {
   "cell_type": "code",
   "execution_count": 35,
   "id": "f86e225a",
   "metadata": {},
   "outputs": [],
   "source": [
    "#Creating a backup file"
   ]
  },
  {
   "cell_type": "code",
   "execution_count": 36,
   "id": "2128d723",
   "metadata": {},
   "outputs": [],
   "source": [
    "df1=df.copy(deep=True)"
   ]
  },
  {
   "cell_type": "markdown",
   "id": "b51a9385",
   "metadata": {},
   "source": [
    "There are more cases of middle aged people who do not have a bank account, may be because of meeting their family requirements."
   ]
  },
  {
   "cell_type": "code",
   "execution_count": 94,
   "id": "10061316",
   "metadata": {},
   "outputs": [
    {
     "data": {
      "text/html": [
       "<div>\n",
       "<style scoped>\n",
       "    .dataframe tbody tr th:only-of-type {\n",
       "        vertical-align: middle;\n",
       "    }\n",
       "\n",
       "    .dataframe tbody tr th {\n",
       "        vertical-align: top;\n",
       "    }\n",
       "\n",
       "    .dataframe thead th {\n",
       "        text-align: right;\n",
       "    }\n",
       "</style>\n",
       "<table border=\"1\" class=\"dataframe\">\n",
       "  <thead>\n",
       "    <tr style=\"text-align: right;\">\n",
       "      <th></th>\n",
       "      <th>country</th>\n",
       "      <th>year</th>\n",
       "      <th>uniqueid</th>\n",
       "      <th>bank_account</th>\n",
       "      <th>location_type</th>\n",
       "      <th>cellphone_access</th>\n",
       "      <th>gender_of_respondent</th>\n",
       "      <th>relationship_with_head</th>\n",
       "      <th>marital_status</th>\n",
       "      <th>education_level</th>\n",
       "      <th>job_type</th>\n",
       "      <th>source</th>\n",
       "      <th>respondent_age</th>\n",
       "      <th>family_size</th>\n",
       "    </tr>\n",
       "  </thead>\n",
       "  <tbody>\n",
       "    <tr>\n",
       "      <th>0</th>\n",
       "      <td>Kenya</td>\n",
       "      <td>2018</td>\n",
       "      <td>uniqueid_1</td>\n",
       "      <td>Yes</td>\n",
       "      <td>Rural</td>\n",
       "      <td>Yes</td>\n",
       "      <td>Female</td>\n",
       "      <td>Spouse</td>\n",
       "      <td>Married/Living together</td>\n",
       "      <td>Secondary education</td>\n",
       "      <td>Self employed</td>\n",
       "      <td>train</td>\n",
       "      <td>young</td>\n",
       "      <td>small</td>\n",
       "    </tr>\n",
       "    <tr>\n",
       "      <th>1</th>\n",
       "      <td>Kenya</td>\n",
       "      <td>2018</td>\n",
       "      <td>uniqueid_2</td>\n",
       "      <td>No</td>\n",
       "      <td>Rural</td>\n",
       "      <td>No</td>\n",
       "      <td>Female</td>\n",
       "      <td>Head of Household</td>\n",
       "      <td>Widowed</td>\n",
       "      <td>No formal education</td>\n",
       "      <td>Government Dependent</td>\n",
       "      <td>train</td>\n",
       "      <td>old</td>\n",
       "      <td>medium</td>\n",
       "    </tr>\n",
       "    <tr>\n",
       "      <th>2</th>\n",
       "      <td>Kenya</td>\n",
       "      <td>2018</td>\n",
       "      <td>uniqueid_3</td>\n",
       "      <td>Yes</td>\n",
       "      <td>Urban</td>\n",
       "      <td>Yes</td>\n",
       "      <td>Male</td>\n",
       "      <td>Other relative</td>\n",
       "      <td>Single/Never Married</td>\n",
       "      <td>Vocational/Specialised training</td>\n",
       "      <td>Self employed</td>\n",
       "      <td>train</td>\n",
       "      <td>young</td>\n",
       "      <td>medium</td>\n",
       "    </tr>\n",
       "    <tr>\n",
       "      <th>3</th>\n",
       "      <td>Kenya</td>\n",
       "      <td>2018</td>\n",
       "      <td>uniqueid_4</td>\n",
       "      <td>No</td>\n",
       "      <td>Rural</td>\n",
       "      <td>Yes</td>\n",
       "      <td>Female</td>\n",
       "      <td>Head of Household</td>\n",
       "      <td>Married/Living together</td>\n",
       "      <td>Primary education</td>\n",
       "      <td>Formally employed Private</td>\n",
       "      <td>train</td>\n",
       "      <td>middle</td>\n",
       "      <td>medium</td>\n",
       "    </tr>\n",
       "    <tr>\n",
       "      <th>4</th>\n",
       "      <td>Kenya</td>\n",
       "      <td>2018</td>\n",
       "      <td>uniqueid_5</td>\n",
       "      <td>No</td>\n",
       "      <td>Urban</td>\n",
       "      <td>No</td>\n",
       "      <td>Male</td>\n",
       "      <td>Child</td>\n",
       "      <td>Single/Never Married</td>\n",
       "      <td>Primary education</td>\n",
       "      <td>Informally employed</td>\n",
       "      <td>train</td>\n",
       "      <td>young</td>\n",
       "      <td>large</td>\n",
       "    </tr>\n",
       "  </tbody>\n",
       "</table>\n",
       "</div>"
      ],
      "text/plain": [
       "  country  year    uniqueid bank_account location_type cellphone_access  \\\n",
       "0   Kenya  2018  uniqueid_1          Yes         Rural              Yes   \n",
       "1   Kenya  2018  uniqueid_2           No         Rural               No   \n",
       "2   Kenya  2018  uniqueid_3          Yes         Urban              Yes   \n",
       "3   Kenya  2018  uniqueid_4           No         Rural              Yes   \n",
       "4   Kenya  2018  uniqueid_5           No         Urban               No   \n",
       "\n",
       "  gender_of_respondent relationship_with_head           marital_status  \\\n",
       "0               Female                 Spouse  Married/Living together   \n",
       "1               Female      Head of Household                  Widowed   \n",
       "2                 Male         Other relative     Single/Never Married   \n",
       "3               Female      Head of Household  Married/Living together   \n",
       "4                 Male                  Child     Single/Never Married   \n",
       "\n",
       "                   education_level                   job_type source  \\\n",
       "0              Secondary education              Self employed  train   \n",
       "1              No formal education       Government Dependent  train   \n",
       "2  Vocational/Specialised training              Self employed  train   \n",
       "3                Primary education  Formally employed Private  train   \n",
       "4                Primary education        Informally employed  train   \n",
       "\n",
       "  respondent_age family_size  \n",
       "0          young       small  \n",
       "1            old      medium  \n",
       "2          young      medium  \n",
       "3         middle      medium  \n",
       "4          young       large  "
      ]
     },
     "execution_count": 94,
     "metadata": {},
     "output_type": "execute_result"
    }
   ],
   "source": [
    "df1.head()"
   ]
  },
  {
   "cell_type": "code",
   "execution_count": 38,
   "id": "00d7477c",
   "metadata": {},
   "outputs": [],
   "source": [
    "#Separating the train and test set"
   ]
  },
  {
   "cell_type": "code",
   "execution_count": 39,
   "id": "7b3c5339",
   "metadata": {},
   "outputs": [],
   "source": [
    "df_train=df1.loc[df['source']=='train']\n",
    "df_test=df1.loc[df['source']=='test']"
   ]
  },
  {
   "cell_type": "code",
   "execution_count": 40,
   "id": "15c61e1e",
   "metadata": {},
   "outputs": [
    {
     "data": {
      "text/plain": [
       "((23524, 14), (10086, 14))"
      ]
     },
     "execution_count": 40,
     "metadata": {},
     "output_type": "execute_result"
    }
   ],
   "source": [
    "df_train.shape,df_test.shape"
   ]
  },
  {
   "cell_type": "code",
   "execution_count": 41,
   "id": "a56d9e99",
   "metadata": {},
   "outputs": [],
   "source": [
    "df_train1=df_train.drop(['uniqueid','source'],axis=1)"
   ]
  },
  {
   "cell_type": "code",
   "execution_count": 42,
   "id": "bea6b0e8",
   "metadata": {},
   "outputs": [],
   "source": [
    "df_test1=df_test.drop(['uniqueid','source','bank_account'],axis=1)"
   ]
  },
  {
   "cell_type": "code",
   "execution_count": 43,
   "id": "1ac449db",
   "metadata": {},
   "outputs": [
    {
     "data": {
      "text/plain": [
       "((23524, 12), (10086, 11))"
      ]
     },
     "execution_count": 43,
     "metadata": {},
     "output_type": "execute_result"
    }
   ],
   "source": [
    "df_train1.shape,df_test1.shape"
   ]
  },
  {
   "cell_type": "code",
   "execution_count": 44,
   "id": "19e39784",
   "metadata": {},
   "outputs": [],
   "source": [
    "#Dummy Encoding the Categorical Variables"
   ]
  },
  {
   "cell_type": "code",
   "execution_count": 45,
   "id": "6f2ecc30",
   "metadata": {},
   "outputs": [],
   "source": [
    "#for train set"
   ]
  },
  {
   "cell_type": "code",
   "execution_count": 46,
   "id": "ea2c37a1",
   "metadata": {},
   "outputs": [],
   "source": [
    "#Label Encoding the Target Variable"
   ]
  },
  {
   "cell_type": "code",
   "execution_count": 47,
   "id": "89678f87",
   "metadata": {},
   "outputs": [],
   "source": [
    "le=LabelEncoder()"
   ]
  },
  {
   "cell_type": "code",
   "execution_count": 48,
   "id": "9e760aad",
   "metadata": {},
   "outputs": [],
   "source": [
    "df_train1['bank_account']=le.fit_transform(df_train1['bank_account'])"
   ]
  },
  {
   "cell_type": "code",
   "execution_count": 49,
   "id": "0c3b68a0",
   "metadata": {},
   "outputs": [
    {
     "data": {
      "text/plain": [
       "0    20212\n",
       "1     3312\n",
       "Name: bank_account, dtype: int64"
      ]
     },
     "execution_count": 49,
     "metadata": {},
     "output_type": "execute_result"
    }
   ],
   "source": [
    "df_train1['bank_account'].value_counts()"
   ]
  },
  {
   "cell_type": "markdown",
   "id": "fd48a93f",
   "metadata": {},
   "source": [
    "We can see that the class is not balanced. So we need to balance it using SMOTE."
   ]
  },
  {
   "cell_type": "code",
   "execution_count": 50,
   "id": "55a11347",
   "metadata": {},
   "outputs": [],
   "source": [
    "#One Hot Ecoding of other categorical variables"
   ]
  },
  {
   "cell_type": "code",
   "execution_count": 51,
   "id": "177927a6",
   "metadata": {},
   "outputs": [],
   "source": [
    "df_train1_dummy=pd.get_dummies(df_train1,drop_first=True)"
   ]
  },
  {
   "cell_type": "code",
   "execution_count": 52,
   "id": "3b1cdf5b",
   "metadata": {},
   "outputs": [],
   "source": [
    "#for test set"
   ]
  },
  {
   "cell_type": "code",
   "execution_count": 53,
   "id": "4a840691",
   "metadata": {},
   "outputs": [],
   "source": [
    "df_test1_dummy=pd.get_dummies(df_test1,drop_first=True)"
   ]
  },
  {
   "cell_type": "code",
   "execution_count": 54,
   "id": "b8da0831",
   "metadata": {},
   "outputs": [],
   "source": [
    "#Splitting into X and y"
   ]
  },
  {
   "cell_type": "code",
   "execution_count": 55,
   "id": "33e1a34d",
   "metadata": {},
   "outputs": [],
   "source": [
    "X_train=df_train1_dummy.drop('bank_account',axis=1)\n",
    "y_train=df_train1_dummy['bank_account']"
   ]
  },
  {
   "cell_type": "code",
   "execution_count": 56,
   "id": "e4561e1f",
   "metadata": {},
   "outputs": [],
   "source": [
    "X_test=df_test1_dummy"
   ]
  },
  {
   "cell_type": "code",
   "execution_count": 57,
   "id": "cb0bad3f",
   "metadata": {},
   "outputs": [
    {
     "data": {
      "text/plain": [
       "((23524, 34), (23524,), (10086, 34))"
      ]
     },
     "execution_count": 57,
     "metadata": {},
     "output_type": "execute_result"
    }
   ],
   "source": [
    "X_train.shape,y_train.shape,X_test.shape"
   ]
  },
  {
   "cell_type": "code",
   "execution_count": 58,
   "id": "4f60c115",
   "metadata": {},
   "outputs": [],
   "source": [
    "#Balancing the target class in train data set"
   ]
  },
  {
   "cell_type": "code",
   "execution_count": 59,
   "id": "7184e393",
   "metadata": {},
   "outputs": [],
   "source": [
    "oversample=SMOTE()"
   ]
  },
  {
   "cell_type": "code",
   "execution_count": 60,
   "id": "dbec6fe4",
   "metadata": {},
   "outputs": [],
   "source": [
    "X_train,y_train=oversample.fit_resample(X_train,y_train)"
   ]
  },
  {
   "cell_type": "code",
   "execution_count": 61,
   "id": "1115a7b8",
   "metadata": {},
   "outputs": [
    {
     "data": {
      "text/plain": [
       "1    20212\n",
       "0    20212\n",
       "Name: bank_account, dtype: int64"
      ]
     },
     "execution_count": 61,
     "metadata": {},
     "output_type": "execute_result"
    }
   ],
   "source": [
    "y_train.value_counts()"
   ]
  },
  {
   "cell_type": "markdown",
   "id": "fc9f97fe",
   "metadata": {},
   "source": [
    "We can see that the classes are balanced now."
   ]
  },
  {
   "cell_type": "code",
   "execution_count": 62,
   "id": "09192664",
   "metadata": {},
   "outputs": [
    {
     "data": {
      "text/plain": [
       "((40424, 34), (40424,), (10086, 34))"
      ]
     },
     "execution_count": 62,
     "metadata": {},
     "output_type": "execute_result"
    }
   ],
   "source": [
    "X_train.shape,y_train.shape,X_test.shape"
   ]
  },
  {
   "cell_type": "code",
   "execution_count": 63,
   "id": "f4c1caaf",
   "metadata": {},
   "outputs": [],
   "source": [
    "#Scaling the data"
   ]
  },
  {
   "cell_type": "code",
   "execution_count": 64,
   "id": "f0e96491",
   "metadata": {},
   "outputs": [],
   "source": [
    "sc=StandardScaler()\n",
    "\n",
    "X_train_scaled=sc.fit_transform(X_train)\n",
    "X_test_scaled=sc.transform(X_test)"
   ]
  },
  {
   "cell_type": "code",
   "execution_count": 65,
   "id": "284a2066",
   "metadata": {},
   "outputs": [],
   "source": [
    "#Model Building"
   ]
  },
  {
   "cell_type": "markdown",
   "id": "6baa0d79",
   "metadata": {},
   "source": [
    "1.Logistic Regression"
   ]
  },
  {
   "cell_type": "code",
   "execution_count": 66,
   "id": "766f3a52",
   "metadata": {},
   "outputs": [
    {
     "name": "stdout",
     "output_type": "stream",
     "text": [
      "Training Accuracy:  0.7676380368098159\n"
     ]
    }
   ],
   "source": [
    "lr=LogisticRegression()\n",
    "\n",
    "lr.fit(X_train_scaled,y_train)\n",
    "\n",
    "y_pred_train=lr.predict(X_train_scaled)\n",
    "y_pred_test=lr.predict(X_test_scaled)\n",
    "\n",
    "print('Training Accuracy: ',accuracy_score(y_train,y_pred_train))\n",
    "\n",
    "submit_lr=pd.DataFrame({\"uniqueid\": df_test[\"uniqueid\"] + \" x \" + df_test[\"country\"],\n",
    "                           \"bank_account\": y_pred_test})\n",
    "submit_lr.to_csv('financial_inclusion.submit_lr.csv',index=False)"
   ]
  },
  {
   "cell_type": "markdown",
   "id": "e3488dd2",
   "metadata": {},
   "source": [
    "2.DecisionTree Classifier"
   ]
  },
  {
   "cell_type": "code",
   "execution_count": 67,
   "id": "db9fa0e4",
   "metadata": {},
   "outputs": [
    {
     "name": "stdout",
     "output_type": "stream",
     "text": [
      "Training Accuracy:  0.8650801504056996\n"
     ]
    }
   ],
   "source": [
    "dt=DecisionTreeClassifier()\n",
    "\n",
    "dt.fit(X_train_scaled,y_train)\n",
    "\n",
    "y_pred_train=dt.predict(X_train_scaled)\n",
    "y_pred_test=dt.predict(X_test_scaled)\n",
    "\n",
    "print('Training Accuracy: ',accuracy_score(y_train,y_pred_train))\n",
    "\n",
    "submit_dt=pd.DataFrame({\"uniqueid\": df_test[\"uniqueid\"] + \" x \" + df_test[\"country\"],\n",
    "                           \"bank_account\": y_pred_test})\n",
    "submit_dt.to_csv('financial_inclusion.submit_dt.csv',index=False)"
   ]
  },
  {
   "cell_type": "markdown",
   "id": "8e240d7e",
   "metadata": {},
   "source": [
    "3.RandomForest Classifier"
   ]
  },
  {
   "cell_type": "code",
   "execution_count": 68,
   "id": "ecd889a1",
   "metadata": {},
   "outputs": [
    {
     "name": "stdout",
     "output_type": "stream",
     "text": [
      "Training Accuracy:  0.8650801504056996\n"
     ]
    }
   ],
   "source": [
    "rf=RandomForestClassifier()\n",
    "\n",
    "rf.fit(X_train_scaled,y_train)\n",
    "\n",
    "y_pred_train=rf.predict(X_train_scaled)\n",
    "y_pred_test=rf.predict(X_test_scaled)\n",
    "\n",
    "print('Training Accuracy: ',accuracy_score(y_train,y_pred_train))\n",
    "\n",
    "submit_rf=pd.DataFrame({\"uniqueid\": df_test[\"uniqueid\"] + \" x \" + df_test[\"country\"],\n",
    "                           \"bank_account\": y_pred_test})\n",
    "submit_rf.to_csv('financial_inclusion.submit_rf.csv',index=False)"
   ]
  },
  {
   "cell_type": "markdown",
   "id": "d83b07d7",
   "metadata": {},
   "source": [
    "4.GridSearchCV_RF"
   ]
  },
  {
   "cell_type": "code",
   "execution_count": 69,
   "id": "1f7eecc1",
   "metadata": {},
   "outputs": [
    {
     "name": "stdout",
     "output_type": "stream",
     "text": [
      "best parameters are:  {'max_depth': 10, 'min_samples_split': 15, 'n_estimators': 100}\n"
     ]
    }
   ],
   "source": [
    "tuned_parameters={'n_estimators':[85,100],'min_samples_split':[15,20],'max_depth':[8,10]}\n",
    "\n",
    "gs_model=GridSearchCV(estimator=rf,param_grid=tuned_parameters,cv=5)\n",
    "gs_model.fit(X_train_scaled,y_train)\n",
    "\n",
    "print('best parameters are: ',gs_model.best_params_)"
   ]
  },
  {
   "cell_type": "code",
   "execution_count": 70,
   "id": "a6364d31",
   "metadata": {},
   "outputs": [
    {
     "name": "stdout",
     "output_type": "stream",
     "text": [
      "Training Accuracy:  0.7920789629922819\n"
     ]
    }
   ],
   "source": [
    "rf1=RandomForestClassifier(n_estimators=100,min_samples_split=15,max_depth=10)\n",
    "\n",
    "rf1.fit(X_train_scaled,y_train)\n",
    "\n",
    "y_pred_train=rf1.predict(X_train_scaled)\n",
    "y_pred_test=rf1.predict(X_test_scaled)\n",
    "\n",
    "print('Training Accuracy: ',accuracy_score(y_train,y_pred_train))\n",
    "\n",
    "submit_rf1=pd.DataFrame({\"uniqueid\": df_test[\"uniqueid\"] + \" x \" + df_test[\"country\"],\n",
    "                           \"bank_account\": y_pred_test})\n",
    "submit_rf1.to_csv('financial_inclusion.submit_rf1.csv',index=False)"
   ]
  },
  {
   "cell_type": "markdown",
   "id": "40bb0727",
   "metadata": {},
   "source": [
    "5.GradientBoostingClassifier"
   ]
  },
  {
   "cell_type": "code",
   "execution_count": 71,
   "id": "a86ae867",
   "metadata": {},
   "outputs": [
    {
     "name": "stdout",
     "output_type": "stream",
     "text": [
      "Training Accuracy:  0.7732040372056205\n"
     ]
    }
   ],
   "source": [
    "gb=GradientBoostingClassifier()\n",
    "\n",
    "gb.fit(X_train_scaled,y_train)\n",
    "\n",
    "y_pred_train=gb.predict(X_train_scaled)\n",
    "y_pred_test=gb.predict(X_test_scaled)\n",
    "\n",
    "print('Training Accuracy: ',accuracy_score(y_train,y_pred_train))\n",
    "\n",
    "submit_gb=pd.DataFrame({\"uniqueid\": df_test[\"uniqueid\"] + \" x \" + df_test[\"country\"],\n",
    "                           \"bank_account\": y_pred_test})\n",
    "submit_gb.to_csv('financial_inclusion.submit_gb.csv',index=False)"
   ]
  },
  {
   "cell_type": "markdown",
   "id": "8c1d5fdd",
   "metadata": {},
   "source": [
    "6.AdaBoostClassifier"
   ]
  },
  {
   "cell_type": "code",
   "execution_count": 72,
   "id": "1682a4ce",
   "metadata": {},
   "outputs": [
    {
     "name": "stdout",
     "output_type": "stream",
     "text": [
      "Training Accuracy:  0.7582376805857907\n"
     ]
    }
   ],
   "source": [
    "ab=AdaBoostClassifier()\n",
    "\n",
    "ab.fit(X_train_scaled,y_train)\n",
    "\n",
    "y_pred_train=ab.predict(X_train_scaled)\n",
    "y_pred_test=ab.predict(X_test_scaled)\n",
    "\n",
    "print('Training Accuracy: ',accuracy_score(y_train,y_pred_train))\n",
    "\n",
    "submit_ab=pd.DataFrame({\"uniqueid\": df_test[\"uniqueid\"] + \" x \" + df_test[\"country\"],\n",
    "                           \"bank_account\": y_pred_test})\n",
    "submit_ab.to_csv('financial_inclusion.submit_ab.csv',index=False)"
   ]
  },
  {
   "cell_type": "markdown",
   "id": "bfd6aa24",
   "metadata": {},
   "source": [
    "7.XGBClassifier"
   ]
  },
  {
   "cell_type": "code",
   "execution_count": 73,
   "id": "412e2e18",
   "metadata": {},
   "outputs": [
    {
     "name": "stdout",
     "output_type": "stream",
     "text": [
      "Training Accuracy:  0.8248565208786859\n"
     ]
    }
   ],
   "source": [
    "xgb=XGBClassifier()\n",
    "\n",
    "xgb.fit(X_train_scaled,y_train)\n",
    "\n",
    "y_pred_train=xgb.predict(X_train_scaled)\n",
    "y_pred_test=xgb.predict(X_test_scaled)\n",
    "\n",
    "print('Training Accuracy: ',accuracy_score(y_train,y_pred_train))\n",
    "\n",
    "submit_xgb=pd.DataFrame({\"uniqueid\": df_test[\"uniqueid\"] + \" x \" + df_test[\"country\"],\n",
    "                           \"bank_account\": y_pred_test})\n",
    "submit_xgb.to_csv('financial_inclusion.submit_xgb.csv',index=False)"
   ]
  },
  {
   "cell_type": "markdown",
   "id": "745e03b4",
   "metadata": {},
   "source": [
    "8.LGBMClassifier"
   ]
  },
  {
   "cell_type": "code",
   "execution_count": 74,
   "id": "c919e7ba",
   "metadata": {},
   "outputs": [
    {
     "name": "stdout",
     "output_type": "stream",
     "text": [
      "Training Accuracy:  0.8147140312685534\n"
     ]
    }
   ],
   "source": [
    "lgb=LGBMClassifier()\n",
    "\n",
    "lgb.fit(X_train_scaled,y_train)\n",
    "\n",
    "y_pred_train=lgb.predict(X_train_scaled)\n",
    "y_pred_test=lgb.predict(X_test_scaled)\n",
    "\n",
    "print('Training Accuracy: ',accuracy_score(y_train,y_pred_train))\n",
    "\n",
    "submit_lgb=pd.DataFrame({\"uniqueid\": df_test[\"uniqueid\"] + \" x \" + df_test[\"country\"],\n",
    "                           \"bank_account\": y_pred_test})\n",
    "submit_lgb.to_csv('financial_inclusion.submit_lgb.csv',index=False)"
   ]
  },
  {
   "cell_type": "markdown",
   "id": "4260bae3",
   "metadata": {},
   "source": [
    "9.SGDClassifier"
   ]
  },
  {
   "cell_type": "code",
   "execution_count": 75,
   "id": "b639f573",
   "metadata": {},
   "outputs": [
    {
     "name": "stdout",
     "output_type": "stream",
     "text": [
      "Training Accuracy:  0.7660300811399169\n"
     ]
    }
   ],
   "source": [
    "sgd=SGDClassifier()\n",
    "\n",
    "sgd.fit(X_train_scaled,y_train)\n",
    "\n",
    "y_pred_train=sgd.predict(X_train_scaled)\n",
    "y_pred_test=sgd.predict(X_test_scaled)\n",
    "\n",
    "print('Training Accuracy: ',accuracy_score(y_train,y_pred_train))\n",
    "\n",
    "submit_sgd=pd.DataFrame({\"uniqueid\": df_test[\"uniqueid\"] + \" x \" + df_test[\"country\"],\n",
    "                           \"bank_account\": y_pred_test})\n",
    "submit_sgd.to_csv('financial_inclusion.submit_sgd.csv',index=False)"
   ]
  },
  {
   "cell_type": "markdown",
   "id": "b8c43b65",
   "metadata": {},
   "source": [
    "10.CatBoostClassifier"
   ]
  },
  {
   "cell_type": "code",
   "execution_count": 76,
   "id": "c819d939",
   "metadata": {},
   "outputs": [
    {
     "name": "stdout",
     "output_type": "stream",
     "text": [
      "Training Accuracy:  0.829160894518108\n"
     ]
    }
   ],
   "source": [
    "cb=CatBoostClassifier(logging_level='Silent')\n",
    "\n",
    "cb.fit(X_train_scaled,y_train)\n",
    "\n",
    "y_pred_train=cb.predict(X_train_scaled)\n",
    "y_pred_test=cb.predict(X_test_scaled)\n",
    "\n",
    "print('Training Accuracy: ',accuracy_score(y_train,y_pred_train))\n",
    "\n",
    "submit_cb=pd.DataFrame({\"uniqueid\": df_test[\"uniqueid\"] + \" x \" + df_test[\"country\"],\n",
    "                           \"bank_account\": y_pred_test})\n",
    "submit_cb.to_csv('financial_inclusion.submit_cb.csv',index=False)"
   ]
  },
  {
   "cell_type": "markdown",
   "id": "bd2a3bb1",
   "metadata": {},
   "source": [
    "11.Stacking"
   ]
  },
  {
   "cell_type": "code",
   "execution_count": 81,
   "id": "90523fc9",
   "metadata": {},
   "outputs": [
    {
     "name": "stdout",
     "output_type": "stream",
     "text": [
      "Training Accuracy:  0.8650801504056996\n"
     ]
    }
   ],
   "source": [
    "dt1=DecisionTreeClassifier()\n",
    "\n",
    "stack=StackingClassifier(classifiers=[dt,gb,lgb,xgb,cb],meta_classifier=dt1)\n",
    "\n",
    "model_stack=stack.fit(X_train,y_train)\n",
    "\n",
    "pred_stack_train=model_stack.predict(X_train)\n",
    "pred_stack_test=model_stack.predict(X_test)\n",
    "\n",
    "print('Training Accuracy: ',accuracy_score(y_train,pred_stack_train))\n",
    "\n",
    "submit_stack=pd.DataFrame({\"uniqueid\": df_test[\"uniqueid\"] + \" x \" + df_test[\"country\"],\n",
    "                           \"bank_account\": pred_stack_test})\n",
    "submit_stack.to_csv('financial_inclusion.submit_stack.csv',index=False)"
   ]
  },
  {
   "cell_type": "code",
   "execution_count": 82,
   "id": "6ded0feb",
   "metadata": {},
   "outputs": [
    {
     "name": "stdout",
     "output_type": "stream",
     "text": [
      "Training Accuracy:  0.829160894518108\n"
     ]
    }
   ],
   "source": [
    "xgb1=XGBClassifier()\n",
    "\n",
    "stack=StackingClassifier(classifiers=[xgb,cb],meta_classifier=xgb1)\n",
    "\n",
    "model_stack=stack.fit(X_train,y_train)\n",
    "\n",
    "pred_stack_train=model_stack.predict(X_train)\n",
    "pred_stack_test=model_stack.predict(X_test)\n",
    "\n",
    "print('Training Accuracy: ',accuracy_score(y_train,pred_stack_train))\n",
    "\n",
    "submit_stack1=pd.DataFrame({\"uniqueid\": df_test[\"uniqueid\"] + \" x \" + df_test[\"country\"],\n",
    "                           \"bank_account\": pred_stack_test})\n",
    "submit_stack1.to_csv('financial_inclusion.submit_stack1.csv',index=False)"
   ]
  },
  {
   "cell_type": "markdown",
   "id": "cd888346",
   "metadata": {},
   "source": [
    "12.Nueral Network"
   ]
  },
  {
   "cell_type": "code",
   "execution_count": 90,
   "id": "cd3a8b09",
   "metadata": {},
   "outputs": [
    {
     "name": "stdout",
     "output_type": "stream",
     "text": [
      "Model: \"sequential_1\"\n",
      "_________________________________________________________________\n",
      " Layer (type)                Output Shape              Param #   \n",
      "=================================================================\n",
      " dense_3 (Dense)             (None, 34)                1190      \n",
      "                                                                 \n",
      " dense_4 (Dense)             (None, 34)                1190      \n",
      "                                                                 \n",
      " dense_5 (Dense)             (None, 1)                 35        \n",
      "                                                                 \n",
      "=================================================================\n",
      "Total params: 2,415\n",
      "Trainable params: 2,415\n",
      "Non-trainable params: 0\n",
      "_________________________________________________________________\n",
      "Epoch 1/50\n",
      "1264/1264 [==============================] - 4s 3ms/step - loss: 0.6596 - accuracy: 0.5777\n",
      "Epoch 2/50\n",
      "1264/1264 [==============================] - 3s 3ms/step - loss: 0.5343 - accuracy: 0.7290\n",
      "Epoch 3/50\n",
      "1264/1264 [==============================] - 3s 3ms/step - loss: 0.5147 - accuracy: 0.7393\n",
      "Epoch 4/50\n",
      "1264/1264 [==============================] - 3s 3ms/step - loss: 0.5101 - accuracy: 0.7428\n",
      "Epoch 5/50\n",
      "1264/1264 [==============================] - 3s 3ms/step - loss: 0.5002 - accuracy: 0.7483\n",
      "Epoch 6/50\n",
      "1264/1264 [==============================] - 3s 3ms/step - loss: 0.4980 - accuracy: 0.7490\n",
      "Epoch 7/50\n",
      "1264/1264 [==============================] - 3s 3ms/step - loss: 0.4977 - accuracy: 0.7500\n",
      "Epoch 8/50\n",
      "1264/1264 [==============================] - 4s 3ms/step - loss: 0.4968 - accuracy: 0.7516\n",
      "Epoch 9/50\n",
      "1264/1264 [==============================] - 4s 3ms/step - loss: 0.5011 - accuracy: 0.7483\n",
      "Epoch 10/50\n",
      "1264/1264 [==============================] - 4s 3ms/step - loss: 0.4973 - accuracy: 0.7506\n",
      "Epoch 11/50\n",
      "1264/1264 [==============================] - 4s 3ms/step - loss: 0.4978 - accuracy: 0.7502\n",
      "Epoch 12/50\n",
      "1264/1264 [==============================] - 4s 3ms/step - loss: 0.4908 - accuracy: 0.7537\n",
      "Epoch 13/50\n",
      "1264/1264 [==============================] - 4s 3ms/step - loss: 0.4926 - accuracy: 0.7532\n",
      "Epoch 14/50\n",
      "1264/1264 [==============================] - 4s 3ms/step - loss: 0.4921 - accuracy: 0.7539\n",
      "Epoch 15/50\n",
      "1264/1264 [==============================] - 4s 3ms/step - loss: 0.4910 - accuracy: 0.7559\n",
      "Epoch 16/50\n",
      "1264/1264 [==============================] - 4s 3ms/step - loss: 0.4907 - accuracy: 0.7554\n",
      "Epoch 17/50\n",
      "1264/1264 [==============================] - 4s 3ms/step - loss: 0.4895 - accuracy: 0.7561\n",
      "Epoch 18/50\n",
      "1264/1264 [==============================] - 4s 3ms/step - loss: 0.4925 - accuracy: 0.7525\n",
      "Epoch 19/50\n",
      "1264/1264 [==============================] - 4s 3ms/step - loss: 0.4906 - accuracy: 0.7550\n",
      "Epoch 20/50\n",
      "1264/1264 [==============================] - 3s 3ms/step - loss: 0.4892 - accuracy: 0.7560\n",
      "Epoch 21/50\n",
      "1264/1264 [==============================] - 4s 3ms/step - loss: 0.4909 - accuracy: 0.7541\n",
      "Epoch 22/50\n",
      "1264/1264 [==============================] - 4s 3ms/step - loss: 0.4907 - accuracy: 0.7548\n",
      "Epoch 23/50\n",
      "1264/1264 [==============================] - 4s 3ms/step - loss: 0.4870 - accuracy: 0.7569\n",
      "Epoch 24/50\n",
      "1264/1264 [==============================] - 4s 3ms/step - loss: 0.4875 - accuracy: 0.7575\n",
      "Epoch 25/50\n",
      "1264/1264 [==============================] - 4s 3ms/step - loss: 0.4875 - accuracy: 0.7558\n",
      "Epoch 26/50\n",
      "1264/1264 [==============================] - 4s 3ms/step - loss: 0.4867 - accuracy: 0.7575\n",
      "Epoch 27/50\n",
      "1264/1264 [==============================] - 4s 3ms/step - loss: 0.4916 - accuracy: 0.7544\n",
      "Epoch 28/50\n",
      "1264/1264 [==============================] - 4s 3ms/step - loss: 0.4858 - accuracy: 0.7576\n",
      "Epoch 29/50\n",
      "1264/1264 [==============================] - 4s 3ms/step - loss: 0.4851 - accuracy: 0.7585\n",
      "Epoch 30/50\n",
      "1264/1264 [==============================] - 4s 3ms/step - loss: 0.4837 - accuracy: 0.7601\n",
      "Epoch 31/50\n",
      "1264/1264 [==============================] - 4s 3ms/step - loss: 0.4853 - accuracy: 0.7577\n",
      "Epoch 32/50\n",
      "1264/1264 [==============================] - 4s 3ms/step - loss: 0.4844 - accuracy: 0.7577\n",
      "Epoch 33/50\n",
      "1264/1264 [==============================] - 4s 3ms/step - loss: 0.4877 - accuracy: 0.7568\n",
      "Epoch 34/50\n",
      "1264/1264 [==============================] - 4s 3ms/step - loss: 0.4838 - accuracy: 0.7588\n",
      "Epoch 35/50\n",
      "1264/1264 [==============================] - 4s 3ms/step - loss: 0.4846 - accuracy: 0.7578\n",
      "Epoch 36/50\n",
      "1264/1264 [==============================] - 4s 3ms/step - loss: 0.4840 - accuracy: 0.7592\n",
      "Epoch 37/50\n",
      "1264/1264 [==============================] - 4s 3ms/step - loss: 0.4848 - accuracy: 0.7575\n",
      "Epoch 38/50\n",
      "1264/1264 [==============================] - 4s 3ms/step - loss: 0.4830 - accuracy: 0.7592\n",
      "Epoch 39/50\n",
      "1264/1264 [==============================] - 4s 3ms/step - loss: 0.4830 - accuracy: 0.7583\n",
      "Epoch 40/50\n",
      "1264/1264 [==============================] - 4s 3ms/step - loss: 0.4868 - accuracy: 0.7563\n",
      "Epoch 41/50\n",
      "1264/1264 [==============================] - 4s 3ms/step - loss: 0.4814 - accuracy: 0.7592\n",
      "Epoch 42/50\n",
      "1264/1264 [==============================] - 4s 3ms/step - loss: 0.4816 - accuracy: 0.7599\n",
      "Epoch 43/50\n",
      "1264/1264 [==============================] - 4s 3ms/step - loss: 0.4826 - accuracy: 0.7609\n",
      "Epoch 44/50\n",
      "1264/1264 [==============================] - 4s 3ms/step - loss: 0.4828 - accuracy: 0.7591\n",
      "Epoch 45/50\n",
      "1264/1264 [==============================] - 4s 3ms/step - loss: 0.4819 - accuracy: 0.7619\n",
      "Epoch 46/50\n",
      "1264/1264 [==============================] - 4s 3ms/step - loss: 0.4832 - accuracy: 0.7567\n",
      "Epoch 47/50\n",
      "1264/1264 [==============================] - 4s 3ms/step - loss: 0.4809 - accuracy: 0.7614\n",
      "Epoch 48/50\n",
      "1264/1264 [==============================] - 4s 3ms/step - loss: 0.4833 - accuracy: 0.7580\n",
      "Epoch 49/50\n",
      "1264/1264 [==============================] - 4s 3ms/step - loss: 0.4867 - accuracy: 0.7570\n",
      "Epoch 50/50\n",
      "1264/1264 [==============================] - 4s 3ms/step - loss: 0.4798 - accuracy: 0.7616\n",
      "316/316 [==============================] - 1s 2ms/step\n",
      "1264/1264 [==============================] - 3s 2ms/step\n",
      "Training Accuracy is:  0.7675143479121314\n"
     ]
    }
   ],
   "source": [
    "classifier=Sequential()\n",
    "\n",
    "classifier.add(Dense(34,kernel_initializer='uniform',activation='relu',input_dim=34))\n",
    "classifier.add(Dense(34,kernel_initializer='uniform',activation='relu'))\n",
    "\n",
    "classifier.add(Dense(1,kernel_initializer='uniform',activation='sigmoid'))\n",
    "\n",
    "classifier.compile(optimizer='adam',loss='binary_crossentropy',metrics=['accuracy'])\n",
    "\n",
    "classifier.summary()\n",
    "\n",
    "classifier.fit(X_train,y_train,batch_size=32,epochs=50)\n",
    "\n",
    "y_pred_test=classifier.predict(X_test)\n",
    "\n",
    "y_pred_test=np.round(y_pred_test)\n",
    "\n",
    "y_pred_train=classifier.predict(X_train)\n",
    "\n",
    "y_pred_train=np.round(y_pred_train)\n",
    "\n",
    "print('Training Accuracy is: ',accuracy_score(y_train,y_pred_train))\n",
    "\n",
    "y_pred_test=y_pred_test.flatten()\n",
    "\n",
    "y_pred_test\n",
    "\n",
    "submit_NN=pd.DataFrame({\"uniqueid\": df_test[\"uniqueid\"] + \" x \" + df_test[\"country\"],\n",
    "                           \"bank_account\": y_pred_test})\n",
    "submit_NN.to_csv('financial_inclusion.submit_NN.csv',index=False)"
   ]
  },
  {
   "cell_type": "code",
   "execution_count": 92,
   "id": "9f34019d",
   "metadata": {},
   "outputs": [
    {
     "name": "stdout",
     "output_type": "stream",
     "text": [
      "Model: \"sequential_3\"\n",
      "_________________________________________________________________\n",
      " Layer (type)                Output Shape              Param #   \n",
      "=================================================================\n",
      " dense_9 (Dense)             (None, 34)                1190      \n",
      "                                                                 \n",
      " dense_10 (Dense)            (None, 34)                1190      \n",
      "                                                                 \n",
      " dense_11 (Dense)            (None, 1)                 35        \n",
      "                                                                 \n",
      "=================================================================\n",
      "Total params: 2,415\n",
      "Trainable params: 2,415\n",
      "Non-trainable params: 0\n",
      "_________________________________________________________________\n",
      "Epoch 1/50\n",
      "1264/1264 [==============================] - 5s 3ms/step - loss: 0.6651 - accuracy: 0.5794\n",
      "Epoch 2/50\n",
      "1264/1264 [==============================] - 3s 3ms/step - loss: 0.5847 - accuracy: 0.6870\n",
      "Epoch 3/50\n",
      "1264/1264 [==============================] - 3s 3ms/step - loss: 0.5613 - accuracy: 0.7062\n",
      "Epoch 4/50\n",
      "1264/1264 [==============================] - 3s 3ms/step - loss: 0.5459 - accuracy: 0.7188\n",
      "Epoch 5/50\n",
      "1264/1264 [==============================] - 4s 3ms/step - loss: 0.5359 - accuracy: 0.7263\n",
      "Epoch 6/50\n",
      "1264/1264 [==============================] - 3s 3ms/step - loss: 0.5307 - accuracy: 0.7304\n",
      "Epoch 7/50\n",
      "1264/1264 [==============================] - 3s 3ms/step - loss: 0.5235 - accuracy: 0.7346\n",
      "Epoch 8/50\n",
      "1264/1264 [==============================] - 3s 3ms/step - loss: 0.5197 - accuracy: 0.7360\n",
      "Epoch 9/50\n",
      "1264/1264 [==============================] - 3s 3ms/step - loss: 0.5160 - accuracy: 0.7379\n",
      "Epoch 10/50\n",
      "1264/1264 [==============================] - 4s 3ms/step - loss: 0.5129 - accuracy: 0.7416\n",
      "Epoch 11/50\n",
      "1264/1264 [==============================] - 4s 3ms/step - loss: 0.5100 - accuracy: 0.7417\n",
      "Epoch 12/50\n",
      "1264/1264 [==============================] - 4s 3ms/step - loss: 0.5094 - accuracy: 0.7436\n",
      "Epoch 13/50\n",
      "1264/1264 [==============================] - 4s 3ms/step - loss: 0.5051 - accuracy: 0.7442\n",
      "Epoch 14/50\n",
      "1264/1264 [==============================] - 4s 3ms/step - loss: 0.5043 - accuracy: 0.7456\n",
      "Epoch 15/50\n",
      "1264/1264 [==============================] - 4s 3ms/step - loss: 0.5039 - accuracy: 0.7445\n",
      "Epoch 16/50\n",
      "1264/1264 [==============================] - 3s 3ms/step - loss: 0.5024 - accuracy: 0.7454\n",
      "Epoch 17/50\n",
      "1264/1264 [==============================] - 4s 3ms/step - loss: 0.5007 - accuracy: 0.7447\n",
      "Epoch 18/50\n",
      "1264/1264 [==============================] - 4s 3ms/step - loss: 0.4992 - accuracy: 0.7470\n",
      "Epoch 19/50\n",
      "1264/1264 [==============================] - 4s 3ms/step - loss: 0.4991 - accuracy: 0.7504\n",
      "Epoch 20/50\n",
      "1264/1264 [==============================] - 4s 3ms/step - loss: 0.4993 - accuracy: 0.7502\n",
      "Epoch 21/50\n",
      "1264/1264 [==============================] - 4s 3ms/step - loss: 0.4993 - accuracy: 0.7478\n",
      "Epoch 22/50\n",
      "1264/1264 [==============================] - 4s 3ms/step - loss: 0.4968 - accuracy: 0.7501\n",
      "Epoch 23/50\n",
      "1264/1264 [==============================] - 4s 3ms/step - loss: 0.4966 - accuracy: 0.7496\n",
      "Epoch 24/50\n",
      "1264/1264 [==============================] - 4s 3ms/step - loss: 0.4945 - accuracy: 0.7533\n",
      "Epoch 25/50\n",
      "1264/1264 [==============================] - 4s 3ms/step - loss: 0.4949 - accuracy: 0.7481\n",
      "Epoch 26/50\n",
      "1264/1264 [==============================] - 4s 3ms/step - loss: 0.4939 - accuracy: 0.7532\n",
      "Epoch 27/50\n",
      "1264/1264 [==============================] - 4s 3ms/step - loss: 0.4933 - accuracy: 0.7540\n",
      "Epoch 28/50\n",
      "1264/1264 [==============================] - 4s 3ms/step - loss: 0.4938 - accuracy: 0.7517\n",
      "Epoch 29/50\n",
      "1264/1264 [==============================] - 4s 3ms/step - loss: 0.4923 - accuracy: 0.7533\n",
      "Epoch 30/50\n",
      "1264/1264 [==============================] - 4s 3ms/step - loss: 0.4916 - accuracy: 0.7541\n",
      "Epoch 31/50\n",
      "1264/1264 [==============================] - 4s 3ms/step - loss: 0.4927 - accuracy: 0.7525\n",
      "Epoch 32/50\n",
      "1264/1264 [==============================] - 4s 3ms/step - loss: 0.4911 - accuracy: 0.7548\n",
      "Epoch 33/50\n",
      "1264/1264 [==============================] - 4s 3ms/step - loss: 0.4894 - accuracy: 0.7554\n",
      "Epoch 34/50\n",
      "1264/1264 [==============================] - 4s 3ms/step - loss: 0.4895 - accuracy: 0.7556\n",
      "Epoch 35/50\n",
      "1264/1264 [==============================] - 4s 3ms/step - loss: 0.4895 - accuracy: 0.7573\n",
      "Epoch 36/50\n",
      "1264/1264 [==============================] - 4s 3ms/step - loss: 0.4874 - accuracy: 0.7589\n",
      "Epoch 37/50\n",
      "1264/1264 [==============================] - 4s 3ms/step - loss: 0.4878 - accuracy: 0.7598\n",
      "Epoch 38/50\n",
      "1264/1264 [==============================] - 4s 3ms/step - loss: 0.4876 - accuracy: 0.7571\n",
      "Epoch 39/50\n",
      "1264/1264 [==============================] - 4s 3ms/step - loss: 0.4855 - accuracy: 0.7574\n",
      "Epoch 40/50\n",
      "1264/1264 [==============================] - 4s 3ms/step - loss: 0.4870 - accuracy: 0.7607\n",
      "Epoch 41/50\n",
      "1264/1264 [==============================] - 4s 3ms/step - loss: 0.4848 - accuracy: 0.7580\n",
      "Epoch 42/50\n",
      "1264/1264 [==============================] - 4s 3ms/step - loss: 0.4857 - accuracy: 0.7595\n",
      "Epoch 43/50\n",
      "1264/1264 [==============================] - 4s 3ms/step - loss: 0.4841 - accuracy: 0.7592\n",
      "Epoch 44/50\n",
      "1264/1264 [==============================] - 4s 3ms/step - loss: 0.4833 - accuracy: 0.7604\n",
      "Epoch 45/50\n",
      "1264/1264 [==============================] - 4s 3ms/step - loss: 0.4823 - accuracy: 0.7614\n",
      "Epoch 46/50\n",
      "1264/1264 [==============================] - 4s 3ms/step - loss: 0.4827 - accuracy: 0.7607\n",
      "Epoch 47/50\n",
      "1264/1264 [==============================] - 4s 3ms/step - loss: 0.4836 - accuracy: 0.7605\n",
      "Epoch 48/50\n",
      "1264/1264 [==============================] - 4s 3ms/step - loss: 0.4837 - accuracy: 0.7613\n",
      "Epoch 49/50\n",
      "1264/1264 [==============================] - 4s 3ms/step - loss: 0.4824 - accuracy: 0.7624\n",
      "Epoch 50/50\n",
      "1264/1264 [==============================] - 4s 3ms/step - loss: 0.4803 - accuracy: 0.7639\n",
      "316/316 [==============================] - 1s 3ms/step\n",
      "1264/1264 [==============================] - 4s 3ms/step\n",
      "Training Accuracy is:  0.7351325944983178\n"
     ]
    }
   ],
   "source": [
    "classifier=Sequential()\n",
    "\n",
    "classifier.add(Dense(34,kernel_initializer='uniform',activation='relu',input_dim=34))\n",
    "classifier.add(Dense(34,kernel_initializer='uniform',activation='relu'))\n",
    "\n",
    "classifier.add(Dense(1,kernel_initializer='uniform',activation='sigmoid'))\n",
    "\n",
    "classifier.compile(optimizer='RMSProp',loss='binary_crossentropy',metrics=['accuracy'])\n",
    "\n",
    "classifier.summary()\n",
    "\n",
    "classifier.fit(X_train,y_train,batch_size=32,epochs=50)\n",
    "\n",
    "y_pred_test=classifier.predict(X_test)\n",
    "\n",
    "y_pred_test=np.round(y_pred_test)\n",
    "\n",
    "y_pred_train=classifier.predict(X_train)\n",
    "\n",
    "y_pred_train=np.round(y_pred_train)\n",
    "\n",
    "print('Training Accuracy is: ',accuracy_score(y_train,y_pred_train))\n",
    "\n",
    "y_pred_test=y_pred_test.flatten()\n",
    "\n",
    "y_pred_test\n",
    "\n",
    "submit_NN1=pd.DataFrame({\"uniqueid\": df_test[\"uniqueid\"] + \" x \" + df_test[\"country\"],\n",
    "                           \"bank_account\": y_pred_test})\n",
    "submit_NN1.to_csv('financial_inclusion.submit_NN1.csv',index=False)"
   ]
  },
  {
   "cell_type": "code",
   "execution_count": null,
   "id": "2a400509",
   "metadata": {},
   "outputs": [],
   "source": []
  }
 ],
 "metadata": {
  "kernelspec": {
   "display_name": "Python 3 (ipykernel)",
   "language": "python",
   "name": "python3"
  },
  "language_info": {
   "codemirror_mode": {
    "name": "ipython",
    "version": 3
   },
   "file_extension": ".py",
   "mimetype": "text/x-python",
   "name": "python",
   "nbconvert_exporter": "python",
   "pygments_lexer": "ipython3",
   "version": "3.9.12"
  }
 },
 "nbformat": 4,
 "nbformat_minor": 5
}
